{
 "cells": [
  {
   "cell_type": "code",
   "execution_count": 2,
   "metadata": {},
   "outputs": [],
   "source": [
    "import numpy as np\n",
    "from matplotlib import pyplot as plt\n",
    "import pandas as pd\n",
    "from tqdm import tqdm"
   ]
  },
  {
   "cell_type": "code",
   "execution_count": 3,
   "metadata": {},
   "outputs": [],
   "source": [
    "def custom_onehot(arr):\n",
    "    img = np.zeros((len(arr),4))\n",
    "    for index, value in enumerate(arr):\n",
    "        if value=='A':\n",
    "            img[index][0] = 1\n",
    "        elif value=='C':\n",
    "            img[index][1] = 1\n",
    "        elif value=='G':\n",
    "            img[index][2] = 1\n",
    "        elif value=='T':\n",
    "            img[index][3] = 1\n",
    "\n",
    "    return img.T"
   ]
  },
  {
   "cell_type": "code",
   "execution_count": 11,
   "metadata": {},
   "outputs": [],
   "source": [
    "def save_img(img,loc,i):\n",
    "    fig, ax = plt.subplots(figsize=(75,1))\n",
    "    ax.imshow(img, interpolation='none', cmap='gray', aspect='auto')\n",
    "    plt.axis('off')\n",
    "    #plt.savefig('image.png',bbox_inches = 'tight',pad_inches=0)\n",
    "    plt.savefig('data/'+str(loc)+'/'+str(loc)+'_'+str(i)+'.png',bbox_inches = 'tight',pad_inches=0)\n",
    "    plt.close(fig)"
   ]
  },
  {
   "cell_type": "code",
   "execution_count": 5,
   "metadata": {},
   "outputs": [],
   "source": [
    "positive_df = pd.read_csv('positive_df.csv')\n",
    "negative_df = pd.read_csv('negative_df.csv')"
   ]
  },
  {
   "cell_type": "code",
   "execution_count": 8,
   "metadata": {},
   "outputs": [],
   "source": [
    "positive_data = positive_df['promoter'].values\n",
    "negative_data = negative_df['non_promoter'].values"
   ]
  },
  {
   "cell_type": "code",
   "execution_count": 14,
   "metadata": {},
   "outputs": [],
   "source": [
    "testpos_df = positive_df.head()\n",
    "testneg_df = negative_df.head()"
   ]
  },
  {
   "cell_type": "code",
   "execution_count": 12,
   "metadata": {},
   "outputs": [],
   "source": [
    "def make_images(df,seq_type):\n",
    "    #start = \n",
    "    n,m = df.shape\n",
    "    data = df[seq_type].values\n",
    "    for i in tqdm(range(n)):\n",
    "        pos = custom_onehot(np.array(list(positive_data[i])))\n",
    "        save_img(pos,seq_type,i)"
   ]
  },
  {
   "cell_type": "code",
   "execution_count": 15,
   "metadata": {},
   "outputs": [
    {
     "name": "stderr",
     "output_type": "stream",
     "text": [
      "100%|██████████| 5/5 [00:01<00:00,  4.46it/s]\n"
     ]
    }
   ],
   "source": [
    "make_images(testpos_df,'promoter')"
   ]
  },
  {
   "cell_type": "code",
   "execution_count": 16,
   "metadata": {},
   "outputs": [
    {
     "name": "stderr",
     "output_type": "stream",
     "text": [
      "100%|██████████| 5/5 [00:01<00:00,  3.95it/s]\n"
     ]
    }
   ],
   "source": [
    "make_images(testneg_df,'non_promoter')"
   ]
  },
  {
   "cell_type": "code",
   "execution_count": null,
   "metadata": {},
   "outputs": [],
   "source": []
  }
 ],
 "metadata": {
  "kernelspec": {
   "display_name": "Python 3",
   "language": "python",
   "name": "python3"
  },
  "language_info": {
   "codemirror_mode": {
    "name": "ipython",
    "version": 3
   },
   "file_extension": ".py",
   "mimetype": "text/x-python",
   "name": "python",
   "nbconvert_exporter": "python",
   "pygments_lexer": "ipython3",
   "version": "3.7.4"
  }
 },
 "nbformat": 4,
 "nbformat_minor": 4
}
