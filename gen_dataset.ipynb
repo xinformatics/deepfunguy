{
 "cells": [
  {
   "cell_type": "code",
   "execution_count": 1,
   "metadata": {},
   "outputs": [],
   "source": [
    "import pandas as pd\n",
    "import numpy as np\n",
    "from Bio import SeqIO"
   ]
  },
  {
   "cell_type": "code",
   "execution_count": 39,
   "metadata": {},
   "outputs": [],
   "source": [
    "import pprint"
   ]
  },
  {
   "cell_type": "code",
   "execution_count": 150,
   "metadata": {},
   "outputs": [],
   "source": [
    "seqs = []\n",
    "seqs_len = []\n",
    "for seq_record in SeqIO.parse('sc_promoters.txt', \"fasta\"):\n",
    "    #print(seq_record.id)\n",
    "    seqs.append(str(seq_record.seq)[:-1])\n",
    "    seqs_len.append(len(str(seq_record.seq)[:-1]))"
   ]
  },
  {
   "cell_type": "code",
   "execution_count": 151,
   "metadata": {},
   "outputs": [],
   "source": [
    "seqs_df = pd.DataFrame(seqs, columns=['promoter'])"
   ]
  },
  {
   "cell_type": "code",
   "execution_count": 152,
   "metadata": {},
   "outputs": [],
   "source": [
    "#seqs_len"
   ]
  },
  {
   "cell_type": "code",
   "execution_count": 153,
   "metadata": {},
   "outputs": [
    {
     "data": {
      "text/html": [
       "<div>\n",
       "<style scoped>\n",
       "    .dataframe tbody tr th:only-of-type {\n",
       "        vertical-align: middle;\n",
       "    }\n",
       "\n",
       "    .dataframe tbody tr th {\n",
       "        vertical-align: top;\n",
       "    }\n",
       "\n",
       "    .dataframe thead th {\n",
       "        text-align: right;\n",
       "    }\n",
       "</style>\n",
       "<table border=\"1\" class=\"dataframe\">\n",
       "  <thead>\n",
       "    <tr style=\"text-align: right;\">\n",
       "      <th></th>\n",
       "      <th>promoter</th>\n",
       "    </tr>\n",
       "  </thead>\n",
       "  <tbody>\n",
       "    <tr>\n",
       "      <td>0</td>\n",
       "      <td>GCTCGGTTTTTGCTCTTTTTCTTCCGTTTTTATGTCATTGGGGTGG...</td>\n",
       "    </tr>\n",
       "    <tr>\n",
       "      <td>1</td>\n",
       "      <td>CAGAGAGTAGGTCCATTTGGTTTTCGTAAAATACACTACGTAAGAT...</td>\n",
       "    </tr>\n",
       "    <tr>\n",
       "      <td>2</td>\n",
       "      <td>TATTTTAGGTTTTGCGATTTAAAATATTCGGGGTCATTATTTGTTT...</td>\n",
       "    </tr>\n",
       "    <tr>\n",
       "      <td>3</td>\n",
       "      <td>ATGTCCATTATTTTTAATCTAAAAAAAGCATTTGATATTTTTTCCT...</td>\n",
       "    </tr>\n",
       "    <tr>\n",
       "      <td>4</td>\n",
       "      <td>CAGCTTTAGTGTACAGGGTTAATCTATAGCCACATTAAAAGGACTT...</td>\n",
       "    </tr>\n",
       "    <tr>\n",
       "      <td>...</td>\n",
       "      <td>...</td>\n",
       "    </tr>\n",
       "    <tr>\n",
       "      <td>5096</td>\n",
       "      <td>ATAAGTTTGGTTTCCCTTCCCGTTATTATGATCGCTCGTGACGGAT...</td>\n",
       "    </tr>\n",
       "    <tr>\n",
       "      <td>5097</td>\n",
       "      <td>CGAAATAACTCAGTAGAAGGGTGAAAATAGATGATAAGAATTTTAT...</td>\n",
       "    </tr>\n",
       "    <tr>\n",
       "      <td>5098</td>\n",
       "      <td>ACATGTGAGCCATAGTGCAGATACTCGTACTACTGTTGTAAATATT...</td>\n",
       "    </tr>\n",
       "    <tr>\n",
       "      <td>5099</td>\n",
       "      <td>AGCTTTTATGACCTAATCATTAGCACTATTCATTGCCAAATATGCA...</td>\n",
       "    </tr>\n",
       "    <tr>\n",
       "      <td>5100</td>\n",
       "      <td>CATCCTATTGCCAGGGCGGATATTTGATGTTGTTCTCAGATATGTA...</td>\n",
       "    </tr>\n",
       "  </tbody>\n",
       "</table>\n",
       "<p>5101 rows × 1 columns</p>\n",
       "</div>"
      ],
      "text/plain": [
       "                                               promoter\n",
       "0     GCTCGGTTTTTGCTCTTTTTCTTCCGTTTTTATGTCATTGGGGTGG...\n",
       "1     CAGAGAGTAGGTCCATTTGGTTTTCGTAAAATACACTACGTAAGAT...\n",
       "2     TATTTTAGGTTTTGCGATTTAAAATATTCGGGGTCATTATTTGTTT...\n",
       "3     ATGTCCATTATTTTTAATCTAAAAAAAGCATTTGATATTTTTTCCT...\n",
       "4     CAGCTTTAGTGTACAGGGTTAATCTATAGCCACATTAAAAGGACTT...\n",
       "...                                                 ...\n",
       "5096  ATAAGTTTGGTTTCCCTTCCCGTTATTATGATCGCTCGTGACGGAT...\n",
       "5097  CGAAATAACTCAGTAGAAGGGTGAAAATAGATGATAAGAATTTTAT...\n",
       "5098  ACATGTGAGCCATAGTGCAGATACTCGTACTACTGTTGTAAATATT...\n",
       "5099  AGCTTTTATGACCTAATCATTAGCACTATTCATTGCCAAATATGCA...\n",
       "5100  CATCCTATTGCCAGGGCGGATATTTGATGTTGTTCTCAGATATGTA...\n",
       "\n",
       "[5101 rows x 1 columns]"
      ]
     },
     "execution_count": 153,
     "metadata": {},
     "output_type": "execute_result"
    }
   ],
   "source": [
    "seqs_df"
   ]
  },
  {
   "cell_type": "code",
   "execution_count": 36,
   "metadata": {},
   "outputs": [],
   "source": [
    "# get chunks\n",
    "def chunks(lst, n):\n",
    "    \"\"\"Yield successive n-sized chunks from lst.\"\"\"\n",
    "    for i in range(0, len(lst), n):\n",
    "        yield lst[i:i + n]"
   ]
  },
  {
   "cell_type": "code",
   "execution_count": 181,
   "metadata": {},
   "outputs": [],
   "source": [
    "#test = list(seqs[0])\n",
    "#print(test)"
   ]
  },
  {
   "cell_type": "code",
   "execution_count": 180,
   "metadata": {},
   "outputs": [],
   "source": [
    "#chunks(test,10)"
   ]
  },
  {
   "cell_type": "code",
   "execution_count": 179,
   "metadata": {},
   "outputs": [],
   "source": [
    "#chunks_list = list(chunks(test, 10))"
   ]
  },
  {
   "cell_type": "code",
   "execution_count": 178,
   "metadata": {},
   "outputs": [],
   "source": [
    "#pprint.pprint(list(chunks(test, 10)))"
   ]
  },
  {
   "cell_type": "code",
   "execution_count": 177,
   "metadata": {},
   "outputs": [],
   "source": [
    "#chunks_list"
   ]
  },
  {
   "cell_type": "code",
   "execution_count": 176,
   "metadata": {},
   "outputs": [],
   "source": [
    "#np.asarray(chunks_list)"
   ]
  },
  {
   "cell_type": "code",
   "execution_count": 87,
   "metadata": {},
   "outputs": [
    {
     "data": {
      "text/plain": [
       "[0, 3, 4, 6, 8, 9, 16, 18, 24, 29]"
      ]
     },
     "execution_count": 87,
     "metadata": {},
     "output_type": "execute_result"
    }
   ],
   "source": [
    "import random\n",
    "mut_index = sorted(random.sample(range(31), 10))\n",
    "mut_index"
   ]
  },
  {
   "cell_type": "code",
   "execution_count": 116,
   "metadata": {},
   "outputs": [],
   "source": [
    "def mutate_v1(dna_list):\n",
    "    mutation_site = random.randint(0, len(dna_list) - 1)\n",
    "    dna_list[mutation_site] = random.choice(list('ATCG'))\n",
    "    return dna_list\n",
    "\n",
    "i2c = {0: 'A', 1: 'C', 2: 'G', 3: 'T'}\n",
    "\n",
    "def mutate_v2(dna, N):\n",
    "    dna = np.asarray(dna)  # array of characters\n",
    "    mutation_sites = np.random.randint(0, dna.shape[0] - 1, size=N)\n",
    "    # Must draw bases as integers\n",
    "    new_bases_i = np.random.randint(0, 3, size=N)\n",
    "    # Translate integers to characters\n",
    "    new_bases_c = np.zeros(N, dtype='c')\n",
    "    for i in i2c:\n",
    "        new_bases_c[new_bases_i == i] = i2c[i]\n",
    "    dna[mutation_sites] = new_bases_c\n",
    "    return dna.tolist()"
   ]
  },
  {
   "cell_type": "code",
   "execution_count": 74,
   "metadata": {},
   "outputs": [],
   "source": [
    "import warnings\n",
    "warnings.filterwarnings('ignore')"
   ]
  },
  {
   "cell_type": "code",
   "execution_count": 77,
   "metadata": {},
   "outputs": [
    {
     "data": {
      "text/plain": [
       "['G', 'C', 'G', 'C', 'G', 'G', 'C', 'T', 'T', 'A']"
      ]
     },
     "execution_count": 77,
     "metadata": {},
     "output_type": "execute_result"
    }
   ],
   "source": [
    "#mutate_v2(['G', 'C', 'T', 'C', 'G', 'G', 'T', 'T', 'T', 'T'], 5)"
   ]
  },
  {
   "cell_type": "code",
   "execution_count": 154,
   "metadata": {},
   "outputs": [],
   "source": [
    "original = seqs[0]"
   ]
  },
  {
   "cell_type": "code",
   "execution_count": 155,
   "metadata": {},
   "outputs": [
    {
     "data": {
      "text/plain": [
       "'GCTCGGTTTTTGCTCTTTTTCTTCCGTTTTTATGTCATTGGGGTGGCGGTAGTCATTCCGTTTTACGGTATGTTTATTCTGACACTTTGACGCAGATCTAAAAGGTGGAGTGTGGAGTACAAATAGCTCTCTCTCAAATACAGAAAAATACTTGAGTGTACAAAAGTAGCAACCTTTAAATAACAATGATTACTTCAATTGACATAGCAGATGTAACTTATTCTGCCAAACCAAGAATTTTGGTGCCTTATAAAACCCAATGGGAAGTCGCCAGTCATCTTCCTGAATATCGCAAACTGG'"
      ]
     },
     "execution_count": 155,
     "metadata": {},
     "output_type": "execute_result"
    }
   ],
   "source": [
    "original"
   ]
  },
  {
   "cell_type": "code",
   "execution_count": 186,
   "metadata": {},
   "outputs": [],
   "source": [
    "def neg_ds(seq):\n",
    "    res = ''\n",
    "    c_list = np.asarray(list(chunks(list(seq), 10)))\n",
    "    mut_index = sorted(random.sample(range(30), 20))\n",
    "    #print (mut_index)\n",
    "    m_list = []\n",
    "    for i in mut_index:\n",
    "        #print (i)\n",
    "        #print('original', ''.join(c_list[i]))\n",
    "        mutated = mutate_v2(c_list[i], 5)\n",
    "        m_list.append(mutated)\n",
    "        #print('mutated ', ''.join(mutated))\n",
    "        #print (m_list)\n",
    "    c_list[mut_index] = m_list\n",
    "    return ''.join([''.join(item) for item in c_list.tolist()])"
   ]
  },
  {
   "cell_type": "code",
   "execution_count": 187,
   "metadata": {},
   "outputs": [
    {
     "data": {
      "text/plain": [
       "'GCTCGGTTTTTGCTCTTTTTCTTCCGTTTTGAAGCCAATGGGGTGGCGGTAGCCACAGCGTTTTACGGTATGTGTCTGCTGACACGTTGAGGCCCATCTAACAGGGGCCGTATCGAGCACAAATAGCTCTCGCTCACGAACAGACACCCACTTGAGTGTACCGAAGCGACAACACATAAAACACAATGGTGCATTCAATTCACATAGACGGTGAACCGGATCCAGCGACACCCAGCATCTTGGGGCCTTATAAAACCCAAAGGCAGATCGACCGACATGTTCCTGAATATCGCAAACTGG'"
      ]
     },
     "execution_count": 187,
     "metadata": {},
     "output_type": "execute_result"
    }
   ],
   "source": [
    "neg_ds(original)"
   ]
  },
  {
   "cell_type": "code",
   "execution_count": 175,
   "metadata": {},
   "outputs": [],
   "source": [
    "negative_dataset = []"
   ]
  },
  {
   "cell_type": "code",
   "execution_count": 188,
   "metadata": {},
   "outputs": [],
   "source": [
    "# for j in seqs:\n",
    "#     negative_dataset.append(neg_ds(j))"
   ]
  },
  {
   "cell_type": "code",
   "execution_count": 189,
   "metadata": {},
   "outputs": [
    {
     "data": {
      "text/plain": [
       "5101"
      ]
     },
     "execution_count": 189,
     "metadata": {},
     "output_type": "execute_result"
    }
   ],
   "source": [
    "len(negative_dataset)"
   ]
  },
  {
   "cell_type": "code",
   "execution_count": 192,
   "metadata": {},
   "outputs": [],
   "source": [
    "negative_df = pd.DataFrame(negative_dataset, columns=['non_promoter'])"
   ]
  },
  {
   "cell_type": "code",
   "execution_count": 193,
   "metadata": {},
   "outputs": [
    {
     "data": {
      "text/html": [
       "<div>\n",
       "<style scoped>\n",
       "    .dataframe tbody tr th:only-of-type {\n",
       "        vertical-align: middle;\n",
       "    }\n",
       "\n",
       "    .dataframe tbody tr th {\n",
       "        vertical-align: top;\n",
       "    }\n",
       "\n",
       "    .dataframe thead th {\n",
       "        text-align: right;\n",
       "    }\n",
       "</style>\n",
       "<table border=\"1\" class=\"dataframe\">\n",
       "  <thead>\n",
       "    <tr style=\"text-align: right;\">\n",
       "      <th></th>\n",
       "      <th>non_promoter</th>\n",
       "    </tr>\n",
       "  </thead>\n",
       "  <tbody>\n",
       "    <tr>\n",
       "      <td>0</td>\n",
       "      <td>GCCACGTTATTGCTCTTTTTCTACCGTTGTTAAGGCATTGCCATGG...</td>\n",
       "    </tr>\n",
       "    <tr>\n",
       "      <td>1</td>\n",
       "      <td>CAGAGAGTAGGTCCATTTGGATTGCGCAAAACACACTAAGTAAGAT...</td>\n",
       "    </tr>\n",
       "    <tr>\n",
       "      <td>2</td>\n",
       "      <td>TGTTTCGCCTTTTGCGATTTAGAAAATACGGGAGCGTCATTTCCTT...</td>\n",
       "    </tr>\n",
       "    <tr>\n",
       "      <td>3</td>\n",
       "      <td>GGGTGCACTACTGAGGATCTGGCAAAAGAAATGGACATTTTTTCCT...</td>\n",
       "    </tr>\n",
       "    <tr>\n",
       "      <td>4</td>\n",
       "      <td>CACCTTTAATGGAGAAGCTTCAACGATACCCACGTTGAGAGGACTA...</td>\n",
       "    </tr>\n",
       "    <tr>\n",
       "      <td>...</td>\n",
       "      <td>...</td>\n",
       "    </tr>\n",
       "    <tr>\n",
       "      <td>5096</td>\n",
       "      <td>ATAAGTTTGGAAGCCCCGCCCGGTATACTGACGGATCATGACGGAT...</td>\n",
       "    </tr>\n",
       "    <tr>\n",
       "      <td>5097</td>\n",
       "      <td>GGAAAAAACTCAGTAGAAGGCCGAAAATAGAGGAAAAGAATTGGAT...</td>\n",
       "    </tr>\n",
       "    <tr>\n",
       "      <td>5098</td>\n",
       "      <td>ACATGTGAGCCATAGTGCAGATACTCGTACTACTGTTGTAAATATT...</td>\n",
       "    </tr>\n",
       "    <tr>\n",
       "      <td>5099</td>\n",
       "      <td>AACCTATATGACCTAATCATTAGCACAATTCATTGCGCAATATGCA...</td>\n",
       "    </tr>\n",
       "    <tr>\n",
       "      <td>5100</td>\n",
       "      <td>GATCATAATGCCAGGCCGGATATTAGGCGTTGTTCTCAGATAGGTG...</td>\n",
       "    </tr>\n",
       "  </tbody>\n",
       "</table>\n",
       "<p>5101 rows × 1 columns</p>\n",
       "</div>"
      ],
      "text/plain": [
       "                                           non_promoter\n",
       "0     GCCACGTTATTGCTCTTTTTCTACCGTTGTTAAGGCATTGCCATGG...\n",
       "1     CAGAGAGTAGGTCCATTTGGATTGCGCAAAACACACTAAGTAAGAT...\n",
       "2     TGTTTCGCCTTTTGCGATTTAGAAAATACGGGAGCGTCATTTCCTT...\n",
       "3     GGGTGCACTACTGAGGATCTGGCAAAAGAAATGGACATTTTTTCCT...\n",
       "4     CACCTTTAATGGAGAAGCTTCAACGATACCCACGTTGAGAGGACTA...\n",
       "...                                                 ...\n",
       "5096  ATAAGTTTGGAAGCCCCGCCCGGTATACTGACGGATCATGACGGAT...\n",
       "5097  GGAAAAAACTCAGTAGAAGGCCGAAAATAGAGGAAAAGAATTGGAT...\n",
       "5098  ACATGTGAGCCATAGTGCAGATACTCGTACTACTGTTGTAAATATT...\n",
       "5099  AACCTATATGACCTAATCATTAGCACAATTCATTGCGCAATATGCA...\n",
       "5100  GATCATAATGCCAGGCCGGATATTAGGCGTTGTTCTCAGATAGGTG...\n",
       "\n",
       "[5101 rows x 1 columns]"
      ]
     },
     "execution_count": 193,
     "metadata": {},
     "output_type": "execute_result"
    }
   ],
   "source": [
    "negative_df"
   ]
  },
  {
   "cell_type": "code",
   "execution_count": 194,
   "metadata": {},
   "outputs": [],
   "source": [
    "positive_df = seqs_df"
   ]
  },
  {
   "cell_type": "code",
   "execution_count": 195,
   "metadata": {},
   "outputs": [
    {
     "data": {
      "text/html": [
       "<div>\n",
       "<style scoped>\n",
       "    .dataframe tbody tr th:only-of-type {\n",
       "        vertical-align: middle;\n",
       "    }\n",
       "\n",
       "    .dataframe tbody tr th {\n",
       "        vertical-align: top;\n",
       "    }\n",
       "\n",
       "    .dataframe thead th {\n",
       "        text-align: right;\n",
       "    }\n",
       "</style>\n",
       "<table border=\"1\" class=\"dataframe\">\n",
       "  <thead>\n",
       "    <tr style=\"text-align: right;\">\n",
       "      <th></th>\n",
       "      <th>promoter</th>\n",
       "    </tr>\n",
       "  </thead>\n",
       "  <tbody>\n",
       "    <tr>\n",
       "      <td>0</td>\n",
       "      <td>GCTCGGTTTTTGCTCTTTTTCTTCCGTTTTTATGTCATTGGGGTGG...</td>\n",
       "    </tr>\n",
       "    <tr>\n",
       "      <td>1</td>\n",
       "      <td>CAGAGAGTAGGTCCATTTGGTTTTCGTAAAATACACTACGTAAGAT...</td>\n",
       "    </tr>\n",
       "    <tr>\n",
       "      <td>2</td>\n",
       "      <td>TATTTTAGGTTTTGCGATTTAAAATATTCGGGGTCATTATTTGTTT...</td>\n",
       "    </tr>\n",
       "    <tr>\n",
       "      <td>3</td>\n",
       "      <td>ATGTCCATTATTTTTAATCTAAAAAAAGCATTTGATATTTTTTCCT...</td>\n",
       "    </tr>\n",
       "    <tr>\n",
       "      <td>4</td>\n",
       "      <td>CAGCTTTAGTGTACAGGGTTAATCTATAGCCACATTAAAAGGACTT...</td>\n",
       "    </tr>\n",
       "    <tr>\n",
       "      <td>...</td>\n",
       "      <td>...</td>\n",
       "    </tr>\n",
       "    <tr>\n",
       "      <td>5096</td>\n",
       "      <td>ATAAGTTTGGTTTCCCTTCCCGTTATTATGATCGCTCGTGACGGAT...</td>\n",
       "    </tr>\n",
       "    <tr>\n",
       "      <td>5097</td>\n",
       "      <td>CGAAATAACTCAGTAGAAGGGTGAAAATAGATGATAAGAATTTTAT...</td>\n",
       "    </tr>\n",
       "    <tr>\n",
       "      <td>5098</td>\n",
       "      <td>ACATGTGAGCCATAGTGCAGATACTCGTACTACTGTTGTAAATATT...</td>\n",
       "    </tr>\n",
       "    <tr>\n",
       "      <td>5099</td>\n",
       "      <td>AGCTTTTATGACCTAATCATTAGCACTATTCATTGCCAAATATGCA...</td>\n",
       "    </tr>\n",
       "    <tr>\n",
       "      <td>5100</td>\n",
       "      <td>CATCCTATTGCCAGGGCGGATATTTGATGTTGTTCTCAGATATGTA...</td>\n",
       "    </tr>\n",
       "  </tbody>\n",
       "</table>\n",
       "<p>5101 rows × 1 columns</p>\n",
       "</div>"
      ],
      "text/plain": [
       "                                               promoter\n",
       "0     GCTCGGTTTTTGCTCTTTTTCTTCCGTTTTTATGTCATTGGGGTGG...\n",
       "1     CAGAGAGTAGGTCCATTTGGTTTTCGTAAAATACACTACGTAAGAT...\n",
       "2     TATTTTAGGTTTTGCGATTTAAAATATTCGGGGTCATTATTTGTTT...\n",
       "3     ATGTCCATTATTTTTAATCTAAAAAAAGCATTTGATATTTTTTCCT...\n",
       "4     CAGCTTTAGTGTACAGGGTTAATCTATAGCCACATTAAAAGGACTT...\n",
       "...                                                 ...\n",
       "5096  ATAAGTTTGGTTTCCCTTCCCGTTATTATGATCGCTCGTGACGGAT...\n",
       "5097  CGAAATAACTCAGTAGAAGGGTGAAAATAGATGATAAGAATTTTAT...\n",
       "5098  ACATGTGAGCCATAGTGCAGATACTCGTACTACTGTTGTAAATATT...\n",
       "5099  AGCTTTTATGACCTAATCATTAGCACTATTCATTGCCAAATATGCA...\n",
       "5100  CATCCTATTGCCAGGGCGGATATTTGATGTTGTTCTCAGATATGTA...\n",
       "\n",
       "[5101 rows x 1 columns]"
      ]
     },
     "execution_count": 195,
     "metadata": {},
     "output_type": "execute_result"
    }
   ],
   "source": [
    "positive_df"
   ]
  },
  {
   "cell_type": "code",
   "execution_count": 197,
   "metadata": {},
   "outputs": [],
   "source": [
    "#write to file\n",
    "positive_df.to_csv('positive_df.csv')\n",
    "negative_df.to_csv('negative_df.csv')"
   ]
  },
  {
   "cell_type": "code",
   "execution_count": 198,
   "metadata": {},
   "outputs": [],
   "source": [
    "# creating labels"
   ]
  },
  {
   "cell_type": "code",
   "execution_count": 199,
   "metadata": {},
   "outputs": [],
   "source": [
    "pos_label = np.ones((5101,1))"
   ]
  },
  {
   "cell_type": "code",
   "execution_count": 202,
   "metadata": {},
   "outputs": [],
   "source": [
    "neg_label = np.zeros((5101,1))"
   ]
  },
  {
   "cell_type": "code",
   "execution_count": 216,
   "metadata": {},
   "outputs": [],
   "source": [
    "label = np.concatenate((neg_label,pos_label))"
   ]
  },
  {
   "cell_type": "code",
   "execution_count": 217,
   "metadata": {},
   "outputs": [],
   "source": [
    "label_df = pd.DataFrame(label, columns=['label'])"
   ]
  },
  {
   "cell_type": "code",
   "execution_count": 218,
   "metadata": {},
   "outputs": [],
   "source": [
    "label_df.to_csv('label.csv')"
   ]
  },
  {
   "cell_type": "code",
   "execution_count": 219,
   "metadata": {},
   "outputs": [],
   "source": [
    "#sequences"
   ]
  },
  {
   "cell_type": "code",
   "execution_count": 223,
   "metadata": {},
   "outputs": [
    {
     "data": {
      "text/plain": [
       "'GATGCAGAAGACGCCATCCACGTGCAGAACAACATAGTCTGGGGAAGAGGGGAGGGAGCATGTTCATTCTGCGAAGGAATAAGAGGATAGTGATAATGACCAAGCGTGAAGTCTCGAAATCCGCTAACAAGACAATATATTTACACACAATGCAGTTTGTAGTAGGGATCGGTACTCACTCTTGCATAAAAAAGAAAGTCACCAAGAAGTAGGGATGATAATGCGCCAACACACCGGCAAAACAGTACTTCACTAAATTTAAGCACAAAACAAGAGGAACAGAATTGCTATTAAAGGTAT'"
      ]
     },
     "execution_count": 223,
     "metadata": {},
     "output_type": "execute_result"
    }
   ],
   "source": [
    "negative_df['non_promoter'][3399]"
   ]
  },
  {
   "cell_type": "code",
   "execution_count": 222,
   "metadata": {},
   "outputs": [],
   "source": [
    "seq2305 = 'AATTGCGGTATGCTCGGTACTACCATGATGATTAGACAATGGGCAGCGACGACGGAAAGTTGGTTGGACCGACAAATTTGATGACCGGCAAAAGATTGTTGATGTAGGTTAAAGTCTCCAATTGAAATTTACGCACAAAAAGTTAGACATGAAATATTGAAAACAATGCTATAACTGCTCAGAGGAAATTAGACATCAACAACGACCGAAACGAGCACGGTCAGAATCTAAGCTGGTTATATGTCGGGCAGCAAAGCTTACGGAAAAAAACCACGTAATCGACCAGTTGTGCCGTAGGGA'"
   ]
  },
  {
   "cell_type": "code",
   "execution_count": 224,
   "metadata": {},
   "outputs": [],
   "source": [
    "seq3399 = 'GATGCAGAAGACGCCATCCACGTGCAGAACAACATAGTCTGGGGAAGAGGGGAGGGAGCATGTTCATTCTGCGAAGGAATAAGAGGATAGTGATAATGACCAAGCGTGAAGTCTCGAAATCCGCTAACAAGACAATATATTTACACACAATGCAGTTTGTAGTAGGGATCGGTACTCACTCTTGCATAAAAAAGAAAGTCACCAAGAAGTAGGGATGATAATGCGCCAACACACCGGCAAAACAGTACTTCACTAAATTTAAGCACAAAACAAGAGGAACAGAATTGCTATTAAAGGTAT'"
   ]
  },
  {
   "cell_type": "code",
   "execution_count": 232,
   "metadata": {},
   "outputs": [],
   "source": [
    "m = 5101\n",
    "locations = (5174-m,6697-m,6751-m,7974-m,8205-m)"
   ]
  },
  {
   "cell_type": "code",
   "execution_count": 233,
   "metadata": {},
   "outputs": [
    {
     "data": {
      "text/plain": [
       "(73, 1596, 1650, 2873, 3104)"
      ]
     },
     "execution_count": 233,
     "metadata": {},
     "output_type": "execute_result"
    }
   ],
   "source": [
    "locations"
   ]
  },
  {
   "cell_type": "code",
   "execution_count": 237,
   "metadata": {},
   "outputs": [
    {
     "data": {
      "text/plain": [
       "'AGAGCTCAAAGCAAAGGACACAGTACACCTGTGTGACGGTGAGTTTCCTATTGCCTTCTCTTTTTCCGTTTGTATTAATCTTTTCAAGAAAAAGTTCATTTCCAAAGTGGCCATTTTCGCGATGCACATCAATAATGATAAACACCTTTATTGAATAATAGCGAAGCAAATAGCAGATATTCCCAATAAAACAGCAAATTAATAAAAGGGCATAGACCAAGGAGTACATGCTAATGCTATACCACGAATTGAGGAATTAGAAAGAAAGTTAGCCAATGGACCAGCTAAGTGACAGCTATG'"
      ]
     },
     "execution_count": 237,
     "metadata": {},
     "output_type": "execute_result"
    }
   ],
   "source": [
    "positive_df['promoter'][1650]"
   ]
  },
  {
   "cell_type": "code",
   "execution_count": 239,
   "metadata": {},
   "outputs": [],
   "source": [
    "seq73_5174 = 'TGAAAACTAGATAGGCAAGCAAGATTTTTCATTTGTAGAGCTCTTACGCAAGATTTTTAAACTTCCGCTTTTTTAATCCATGAGATTCCTTTGGACACCCTTTCCGGCACGGCAAAACAAAAAAATTAAGGGAACTCATTATTTTACGATGCTACTTAGATAACTAAAGTTCATTATATTTCAACAAATATAAGATAATCAAGAATAAAATGTCGTCAGAAAGGGTCTTAAGTTATGCACCAGCTTTTAAATCATTTCTGGATACATCTTTTTTCCAAGAATTATCGAGATTGAAACTCG'"
   ]
  },
  {
   "cell_type": "code",
   "execution_count": 236,
   "metadata": {},
   "outputs": [],
   "source": [
    "seq1596_6697 = 'ATTAAACGTTATTTGCCCCTTCAAATATTCAATATTTCCCATCGCTAATAAAAAAGCTGCATTTTTATTTATTACTTTTTAAATATCATATTTGACGATCGTGTAGGACCCCTATGATTTAACATATCAAGAATGAATGAAAAGAACGTCAGAAACACAAGGTTAATTGCCTGTTATAATCAGACGATTGTAATATAACCATAGAGTTAGTGGGTATTGGAAAGGCCGGTAAAGATAACAGGGATCTCTGAAAAATGCCCAAGTTGGAACAATTTGAAATAAAAAAATACTGGCAAATCT'"
   ]
  },
  {
   "cell_type": "code",
   "execution_count": 238,
   "metadata": {},
   "outputs": [],
   "source": [
    "seq1650_6751 = 'AGAGCTCAAAGCAAAGGACACAGTACACCTGTGTGACGGTGAGTTTCCTATTGCCTTCTCTTTTTCCGTTTGTATTAATCTTTTCAAGAAAAAGTTCATTTCCAAAGTGGCCATTTTCGCGATGCACATCAATAATGATAAACACCTTTATTGAATAATAGCGAAGCAAATAGCAGATATTCCCAATAAAACAGCAAATTAATAAAAGGGCATAGACCAAGGAGTACATGCTAATGCTATACCACGAATTGAGGAATTAGAAAGAAAGTTAGCCAATGGACCAGCTAAGTGACAGCTATG'"
   ]
  },
  {
   "cell_type": "code",
   "execution_count": 242,
   "metadata": {},
   "outputs": [
    {
     "data": {
      "image/png": "[encoded data removed]",
      "text/plain": [
       "<Figure size 432x288 with 1 Axes>"
      ]
     },
     "metadata": {
      "needs_background": "light"
     },
     "output_type": "display_data"
    }
   ],
   "source": [
    "%matplotlib inline\n",
    "import matplotlib.pyplot as plt\n",
    "import matplotlib.image as mpimg\n"
   ]
  },
  {
   "cell_type": "code",
   "execution_count": 257,
   "metadata": {},
   "outputs": [
    {
     "data": {
      "image/png": "[encoded data removed]",
      "text/plain": [
       "<Figure size 4752x72 with 1 Axes>"
      ]
     },
     "metadata": {
      "needs_background": "light"
     },
     "output_type": "display_data"
    }
   ],
   "source": [
    "fig = plt.figure(figsize=(66,1))\n",
    "img=mpimg.imread('5174.png')\n",
    "imgplot = plt.imshow(img)\n",
    "plt.title(seq73_5174, fontsize=18)\n",
    "#plt.show()\n",
    "plt.axis('off')\n",
    "plt.savefig('5174_pro.png',bbox_inches = 'tight',pad_inches = 0)"
   ]
  },
  {
   "cell_type": "code",
   "execution_count": 254,
   "metadata": {},
   "outputs": [
    {
     "data": {
      "text/plain": [
       "<Figure size 432x288 with 0 Axes>"
      ]
     },
     "metadata": {},
     "output_type": "display_data"
    }
   ],
   "source": []
  },
  {
   "cell_type": "code",
   "execution_count": 258,
   "metadata": {},
   "outputs": [
    {
     "data": {
      "image/png": "[encoded data removed]",
      "text/plain": [
       "<Figure size 4752x72 with 1 Axes>"
      ]
     },
     "metadata": {
      "needs_background": "light"
     },
     "output_type": "display_data"
    }
   ],
   "source": [
    "fig = plt.figure(figsize=(66,1))\n",
    "img=mpimg.imread('6697.png')\n",
    "imgplot = plt.imshow(img)\n",
    "plt.title(seq1596_6697, fontsize=18)\n",
    "#plt.show()\n",
    "plt.axis('off')\n",
    "plt.savefig('6697_pro.png',bbox_inches = 'tight',pad_inches = 0)"
   ]
  },
  {
   "cell_type": "code",
   "execution_count": 259,
   "metadata": {},
   "outputs": [
    {
     "data": {
      "image/png": "[encoded data removed]",
      "text/plain": [
       "<Figure size 4752x72 with 1 Axes>"
      ]
     },
     "metadata": {
      "needs_background": "light"
     },
     "output_type": "display_data"
    }
   ],
   "source": [
    "fig = plt.figure(figsize=(66,1))\n",
    "img=mpimg.imread('6751.png')\n",
    "imgplot = plt.imshow(img)\n",
    "plt.title(seq1650_6751, fontsize=18)\n",
    "#plt.show()\n",
    "plt.axis('off')\n",
    "plt.savefig('6751_pro.png',bbox_inches = 'tight',pad_inches = 0)"
   ]
  },
  {
   "cell_type": "code",
   "execution_count": null,
   "metadata": {},
   "outputs": [],
   "source": []
  }
 ],
 "metadata": {
  "kernelspec": {
   "display_name": "Python 3",
   "language": "python",
   "name": "python3"
  },
  "language_info": {
   "codemirror_mode": {
    "name": "ipython",
    "version": 3
   },
   "file_extension": ".py",
   "mimetype": "text/x-python",
   "name": "python",
   "nbconvert_exporter": "python",
   "pygments_lexer": "ipython3",
   "version": "3.7.4"
  }
 },
 "nbformat": 4,
 "nbformat_minor": 4
}
